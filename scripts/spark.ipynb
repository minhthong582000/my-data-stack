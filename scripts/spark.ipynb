{
 "cells": [
  {
   "cell_type": "code",
   "execution_count": 35,
   "id": "5f4e13ad",
   "metadata": {},
   "outputs": [],
   "source": [
    "import os\n",
    "os.environ[\"PYSPARK_SUBMIT_ARGS\"] = \"--packages mysql:mysql-connector-java:8.0.24 pyspark-shell\""
   ]
  },
  {
   "cell_type": "code",
   "execution_count": 53,
   "id": "717c9a54",
   "metadata": {},
   "outputs": [],
   "source": [
    "from pyspark.sql import SparkSession, SQLContext\n",
    "from pyspark.sql.types import *"
   ]
  },
  {
   "cell_type": "code",
   "execution_count": 37,
   "id": "bc48a1d8",
   "metadata": {},
   "outputs": [],
   "source": [
    "spark = SparkSession.\\\n",
    "        builder.\\\n",
    "        appName(\"pyspark-notebook\").\\\n",
    "        master(\"spark://spark-master:7077\").\\\n",
    "        config(\"spark.executor.memory\", \"512m\").\\\n",
    "        getOrCreate()"
   ]
  },
  {
   "cell_type": "code",
   "execution_count": 63,
   "id": "e181608e",
   "metadata": {},
   "outputs": [
    {
     "name": "stdout",
     "output_type": "stream",
     "text": [
      "root\n",
      " |-- name: string (nullable = true)\n",
      " |-- age: integer (nullable = true)\n",
      "\n",
      "+------------+---+\n",
      "|        name|age|\n",
      "+------------+---+\n",
      "|Nguyen Van A| 99|\n",
      "|Nguyen Van B| 66|\n",
      "|Nguyen Van C| 16|\n",
      "|Nguyen Van D| 19|\n",
      "+------------+---+\n",
      "\n"
     ]
    }
   ],
   "source": [
    "# User schema\n",
    "schema = StructType([StructField(\"name\", StringType(), True), StructField(\"age\", IntegerType(), True)])\n",
    "\n",
    "# Read file from hadoop fs\n",
    "df = spark.read.option(\"multiline\", \"true\").schema(schema).json(\"hdfs://hadoop:9000/test/user.json\")\n",
    "\n",
    "df.printSchema()\n",
    "df.show()"
   ]
  },
  {
   "cell_type": "code",
   "execution_count": 64,
   "id": "e0fa6ebb",
   "metadata": {},
   "outputs": [
    {
     "name": "stdout",
     "output_type": "stream",
     "text": [
      "+------------+---+\n",
      "|        name|age|\n",
      "+------------+---+\n",
      "|Nguyen Van A| 99|\n",
      "|Nguyen Van B| 66|\n",
      "|Nguyen Van C| 16|\n",
      "|Nguyen Van D| 19|\n",
      "+------------+---+\n",
      "\n"
     ]
    }
   ],
   "source": [
    "jdbcDF = spark.read \\\n",
    "    .format(\"jdbc\") \\\n",
    "    .option('driver', 'com.mysql.jdbc.Driver') \\\n",
    "    .option(\"url\", \"jdbc:mysql://172.17.0.1:3306/bigdata\") \\\n",
    "    .option(\"dbtable\", \"user\") \\\n",
    "    .option(\"user\", \"root\") \\\n",
    "    .option(\"password\", \"local\") \\\n",
    "    .load()\n",
    "\n",
    "df.write.format('jdbc').options(\n",
    "          url='jdbc:mysql://172.17.0.1:3306/bigdata',\n",
    "          driver='com.mysql.jdbc.Driver',\n",
    "          dbtable='user',\n",
    "          user='root',\n",
    "          password='local').mode('append').save()\n",
    "\n",
    "jdbcDF.show()"
   ]
  }
 ],
 "metadata": {
  "kernelspec": {
   "display_name": "Python 3",
   "language": "python",
   "name": "python3"
  },
  "language_info": {
   "codemirror_mode": {
    "name": "ipython",
    "version": 3
   },
   "file_extension": ".py",
   "mimetype": "text/x-python",
   "name": "python",
   "nbconvert_exporter": "python",
   "pygments_lexer": "ipython3",
   "version": "3.7.3"
  }
 },
 "nbformat": 4,
 "nbformat_minor": 5
}
